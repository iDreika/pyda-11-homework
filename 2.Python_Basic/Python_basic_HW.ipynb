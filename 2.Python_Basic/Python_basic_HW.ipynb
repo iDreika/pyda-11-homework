{
 "cells": [
  {
   "cell_type": "markdown",
   "metadata": {},
   "source": [
    "**Задание 1**. Даны 2 строки: *long_phrase* и *short_phrase*. \n",
    "Напишите код, который проверяет действительно ли длинная фраза *long_phrase* длиннее короткой *short_phrase*. И выводит *True* или *False* в зависимости от результата сравнения."
   ]
  },
  {
   "cell_type": "code",
   "execution_count": 1,
   "metadata": {},
   "outputs": [],
   "source": [
    "long_phrase = 'Насколько проще было бы писать программы, если бы не заказчики'\n",
    "short_phrase = '640Кб должно хватить для любых задач. Билл Гейтс (по легенде)'"
   ]
  },
  {
   "cell_type": "code",
   "execution_count": 2,
   "metadata": {},
   "outputs": [
    {
     "data": {
      "text/plain": [
       "True"
      ]
     },
     "execution_count": 2,
     "metadata": {},
     "output_type": "execute_result"
    }
   ],
   "source": [
    "len(long_phrase) > len(short_phrase)"
   ]
  },
  {
   "cell_type": "markdown",
   "metadata": {},
   "source": [
    "**Задание 2**. Дано значение объема файла в байтах (*в мегабайте 2^20 байт*). Напишите перевод этого значения в мегабайты в формате: \"*Объем файла равен 213.68Mb*\"."
   ]
  },
  {
   "cell_type": "code",
   "execution_count": null,
   "metadata": {},
   "outputs": [],
   "source": [
    "file_size_Mb = 213.68\n",
    "file_size_b = ((2**20)*file_size_Mb)\n",
    "print('Объем файла:')\n",
    "print(file_size_Mb,'Mb','=',file_size_b,'b')"
   ]
  },
  {
   "cell_type": "markdown",
   "metadata": {},
   "source": [
    "**Задание 3**. Разработать приложение для определения знака зодиака по дате рождения. Пример:\n",
    "\n",
    "Введите месяц: март\n",
    "\n",
    "Введите число: 6\n",
    "\n",
    "Вывод:\n",
    "Рыбы"
   ]
  },
  {
   "cell_type": "code",
   "execution_count": 10,
   "metadata": {},
   "outputs": [
    {
     "name": "stdout",
     "output_type": "stream",
     "text": [
      "Введите месяц: октябрь\n",
      "Введите число: 23\n",
      "Знак зодиака: Весы\n"
     ]
    }
   ],
   "source": [
    "#Ввод данных\n",
    "month_input = input('Введите месяц: ')\n",
    "date_input = int(input('Введите число: '))\n",
    "\n",
    "#Сортировка по знаку зодиака\n",
    "if ((month_input == 'март') and (21 <= date_input <= 31)) or ((month_input == 'апрель') and (1 <= date_input <= 20)):\n",
    "    print('Знак зодиака: Овен')\n",
    "elif ((month_input == 'апрель') and (21 <= date_input <= 30)) or ((month_input == 'май') and (1 <= date_input <= 21)):\n",
    "    print('Знак зодиака: Телец')\n",
    "elif ((month_input == 'май') and (22 <= date_input <= 31)) or ((month_input == 'июнь') and (1 <= date_input <= 21)):\n",
    "    print('Знак зодиака: Близнецы')\n",
    "elif ((month_input == 'июнь') and (22 <= date_input <= 30)) or ((month_input == 'июль') and (1 <= date_input <= 22)):\n",
    "    print('Знак зодиака: Рак')\n",
    "elif ((month_input == 'июль') and (22 <= date_input <= 31)) or ((month_input == 'август') and (1 <= date_input <= 23)):\n",
    "    print('Знак зодиака: Лев')  \n",
    "elif ((month_input == 'август') and (24 <= date_input <= 31)) or ((month_input == 'сентябрь') and (1 <= date_input <= 23)):\n",
    "    print('Знак зодиака: Дева')      \n",
    "elif ((month_input == 'сентябрь') and (24 <= date_input <= 30)) or ((month_input == 'октябрь') and (1 <= date_input <= 23)):\n",
    "    print('Знак зодиака: Весы')      \n",
    "elif ((month_input == 'октябрь') and (24 <= date_input <= 31)) or ((month_input == 'ноябрь') and (1 <= date_input <= 22)):\n",
    "    print('Знак зодиака: Скорпион')       \n",
    "elif ((month_input == 'ноябрь') and (23 <= date_input <= 30)) or ((month_input == 'декабрь') and (1 <= date_input <= 21)):\n",
    "    print('Знак зодиака: Стрелец')\n",
    "elif ((month_input == 'декабрь') and (22 <= date_input <= 31)) or ((month_input == 'январь') and (1 <= date_input <= 20)):\n",
    "    print('Знак зодиака: Козерог')\n",
    "elif ((month_input == 'январь') and (21 <= date_input <= 31)) or ((month_input == 'февраль') and (1 <= date_input <= 18)):\n",
    "    print('Знак зодиака: Водолей')\n",
    "elif ((month_input == 'февраль') and (19 <= date_input <= 29)) or ((month_input == 'март') and (1 <= date_input <= 20)):\n",
    "    print('Знак зодиака: Рыбы')    \n",
    "else:\n",
    "    print('Дата введена некорректно')"
   ]
  },
  {
   "cell_type": "markdown",
   "metadata": {},
   "source": [
    "**Задание 4**. Нужно разработать приложение для финансового планирования.\n",
    "Приложение учитывает сколько уходит на ипотеку, \"на жизнь\" и сколько нужно отложить на пенсию.\n",
    "Пользователь вводит:\n",
    "- заработанную плату в месяц.\n",
    "- сколько процентов от ЗП уходит на ипотеку.\n",
    "- сколько процентов от ЗП уходит \"на жизнь\".\n",
    "- сколько раз приходит премия в год.\n",
    "\n",
    "Остальная часть заработанной платы откладывается на пенсию.\n",
    "\n",
    "Также пользователю приходит премия в размере зарплаты, от которой половина уходит на отпуск, а вторая половина откладывается.\n",
    "\n",
    "Программа должна учитывать сколько премий было в год.\n",
    "\n",
    "Нужно вывести сколько денег тратит пользователь на ипотеку и сколько он накопит за год.\n",
    "\n",
    "Пример:\n",
    "\n",
    "Введите заработанную плату в месяц: 100000\n",
    "\n",
    "Введите сколько процентов уходит на ипотеку: 30\n",
    "\n",
    "Введите сколько процентов уходит на жизнь: 50\n",
    "\n",
    "Введите количество премий за год: 2\n",
    "\n",
    "Вывод:\n",
    "На ипотеку было потрачено: 360000 рублей\n",
    "Было накоплено: 340000 рублей"
   ]
  },
  {
   "cell_type": "code",
   "execution_count": 4,
   "metadata": {},
   "outputs": [
    {
     "name": "stdout",
     "output_type": "stream",
     "text": [
      "Введите заработанную плату в месяц: 100\n",
      "Введите сколько процентов уходит на ипотеку: 20\n",
      "Введите сколько процентов уходит на жизнь: 30\n",
      "Введите количество премий за год: 3\n",
      "На ипотеку было потрачено:  240.0  рублей\n",
      "Было накоплено:  750.0  рублей\n"
     ]
    }
   ],
   "source": [
    "#Ввод данных\n",
    "salary = int(input('Введите заработанную плату в месяц: '))\n",
    "mortgage = int(input('Введите сколько процентов уходит на ипотеку: '))\n",
    "for_live = int(input('Введите сколько процентов уходит на жизнь: '))\n",
    "bonus_count = int(input('Введите количество премий за год: '))\n",
    "\n",
    "#Проверка вводных данных\n",
    "if mortgage > 100 or mortgage < 0:\n",
    "    print ('Невозможный процент по ипотеке')\n",
    "elif for_live > 100 or for_live < 0:\n",
    "    print ('Невозможный процент на жизнь')\n",
    "elif (for_live + mortgage) > 100:\n",
    "    print ('Невозможный суммарный процент')    \n",
    "\n",
    "#Рассчеты\n",
    "else:\n",
    "    print('На ипотеку было потрачено: ',(salary * mortgage / 100 * 12),' рублей')\n",
    "    print('Было накоплено: ',(salary - ((mortgage + for_live)/100 * salary))*12 + ((bonus_count * salary)/2),' рублей')\n",
    "\n",
    "    "
   ]
  }
 ],
 "metadata": {
  "kernelspec": {
   "display_name": "Python 3",
   "language": "python",
   "name": "python3"
  },
  "language_info": {
   "codemirror_mode": {
    "name": "ipython",
    "version": 3
   },
   "file_extension": ".py",
   "mimetype": "text/x-python",
   "name": "python",
   "nbconvert_exporter": "python",
   "pygments_lexer": "ipython3",
   "version": "3.7.6"
  }
 },
 "nbformat": 4,
 "nbformat_minor": 2
}
