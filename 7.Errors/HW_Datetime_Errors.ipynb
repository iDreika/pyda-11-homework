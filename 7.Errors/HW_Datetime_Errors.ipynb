{
 "cells": [
  {
   "cell_type": "markdown",
   "metadata": {},
   "source": [
    "### Задание 1\n",
    "\n",
    "Печатные газеты использовали свой формат дат для каждого выпуска. Для каждой газеты из списка напишите формат указанной даты для перевода в объект datetime:\n",
    "The Moscow Times - Wednesday, October 2, 2002\n",
    "The Guardian - Friday, 11.10.13\n",
    "Daily News - Thursday, 18 August 1977"
   ]
  },
  {
   "cell_type": "code",
   "execution_count": 9,
   "metadata": {},
   "outputs": [
    {
     "data": {
      "text/plain": [
       "datetime.datetime(1977, 8, 18, 0, 0)"
      ]
     },
     "execution_count": 9,
     "metadata": {},
     "output_type": "execute_result"
    }
   ],
   "source": [
    "from datetime import datetime\n",
    "\n",
    "The_Moscow_Times = 'Wednesday, October 2, 2002' \n",
    "The_Guardian = 'Friday, 11.10.13' \n",
    "Daily_News = 'Thursday, 18 August 1977'\n",
    "\n",
    "date_tMT = datetime.strptime(The_Moscow_Times, '%A, %B %d, %Y')\n",
    "date_tG = datetime.strptime(The_Guardian, '%A, %d.%m.%y') #из задачи нельзя однозначно сказать где день а где месяц, на сайте TheGuardian день шел первым\n",
    "date_DN = datetime.strptime(Daily_News, '%A, %d %B %Y')\n",
    "\n",
    "date_DN"
   ]
  },
  {
   "cell_type": "markdown",
   "metadata": {},
   "source": [
    "### Задание 2\n",
    "Дан поток дат в формате YYYY-MM-DD, в которых встречаются некорректные значения:\n",
    "stream = ['2018-04-02', '2018-02-29', '2018-19-02']\n",
    "\n",
    "Напишите функцию, которая проверяет эти даты на корректность. Т. е. для каждой даты возвращает True (дата корректна) или False (некорректная дата). \n"
   ]
  },
  {
   "cell_type": "code",
   "execution_count": 19,
   "metadata": {},
   "outputs": [
    {
     "name": "stdout",
     "output_type": "stream",
     "text": [
      "2018-04-02 True\n",
      "2018-02-29 True\n",
      "2018-19-02 False\n"
     ]
    }
   ],
   "source": [
    "#Первый вариант\n",
    "\n",
    "stream = ['2018-04-02', '2018-02-29', '2018-19-02']\n",
    "\n",
    "for line in stream:\n",
    "    print(line, int(line[5:7]) <= 12 and int(line[8:]) <= 31)\n",
    "    \n",
    "#Минусом данного варианта являются високосные года (что и отразилось во второй строке) и то что не в каждом месяце 31 день\n",
    "#Плюс в малой затратности\n"
   ]
  },
  {
   "cell_type": "code",
   "execution_count": 16,
   "metadata": {},
   "outputs": [
    {
     "name": "stdout",
     "output_type": "stream",
     "text": [
      "2018-04-02 True\n",
      "2018-02-29 False\n",
      "2018-19-02 False\n"
     ]
    }
   ],
   "source": [
    "#Второй вариант\n",
    "\n",
    "from datetime import datetime\n",
    "\n",
    "stream = ['2018-04-02', '2018-02-29', '2018-19-02']\n",
    "\n",
    "for line in stream:\n",
    "    try:\n",
    "        datetime.strptime(line, '%Y-%m-%d')\n",
    "        print(line, True)\n",
    "    except:\n",
    "        print(line, False)\n",
    "    "
   ]
  },
  {
   "cell_type": "markdown",
   "metadata": {},
   "source": [
    "### Задание 3\n",
    "\n",
    "Напишите функцию date_range, которая возвращает список дат за период от start_date до end_date. Даты должны вводиться в формате YYYY-MM-DD. В случае неверного формата или при start_date > end_date должен возвращаться пустой список.\n"
   ]
  },
  {
   "cell_type": "code",
   "execution_count": 37,
   "metadata": {},
   "outputs": [
    {
     "name": "stdout",
     "output_type": "stream",
     "text": [
      "Введите Начальную дату: 2018-05-03\n",
      "Введите Конечную дату: 2017-06-01\n",
      "Начальная дата больше Конечной\n"
     ]
    },
    {
     "data": {
      "text/plain": [
       "[]"
      ]
     },
     "execution_count": 37,
     "metadata": {},
     "output_type": "execute_result"
    }
   ],
   "source": [
    "from datetime import datetime\n",
    "from datetime import timedelta\n",
    "\n",
    "start_date = input('Введите Начальную дату: ')\n",
    "end_date = input('Введите Конечную дату: ')\n",
    "\n",
    "def date_range(start_dt, end_dt):\n",
    "    date_list = []\n",
    "    try:\n",
    "        st_dt = datetime.strptime(start_dt, '%Y-%m-%d')\n",
    "        end_dt = datetime.strptime(end_date, '%Y-%m-%d')\n",
    "        if  st_dt > end_dt:\n",
    "                print('Начальная дата больше Конечной')\n",
    "                return date_list\n",
    "        else:\n",
    "            while st_dt <= end_dt:\n",
    "                date_list.append(st_dt.strftime('%Y-%m-%d'))\n",
    "                st_dt += timedelta(days=1)\n",
    "            return date_list\n",
    "    except:\n",
    "        print('Введен неверный формат дат')\n",
    "        return date_list\n",
    "\n",
    "date_range(start_date, end_date)"
   ]
  }
 ],
 "metadata": {
  "kernelspec": {
   "display_name": "Python 3",
   "language": "python",
   "name": "python3"
  },
  "language_info": {
   "codemirror_mode": {
    "name": "ipython",
    "version": 3
   },
   "file_extension": ".py",
   "mimetype": "text/x-python",
   "name": "python",
   "nbconvert_exporter": "python",
   "pygments_lexer": "ipython3",
   "version": "3.7.6"
  }
 },
 "nbformat": 4,
 "nbformat_minor": 4
}
