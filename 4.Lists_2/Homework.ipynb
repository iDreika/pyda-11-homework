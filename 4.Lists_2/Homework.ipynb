{
 "cells": [
  {
   "cell_type": "markdown",
   "metadata": {},
   "source": [
    "**Задание 1**. Дан список с визитами по городам и странам. \n",
    "Напишите код, который возвращает отфильтрованный список geo_logs, содержащий только визиты из России."
   ]
  },
  {
   "cell_type": "code",
   "execution_count": 36,
   "metadata": {},
   "outputs": [
    {
     "name": "stdout",
     "output_type": "stream",
     "text": [
      "Список визитов в Россию: \n",
      "[{'visit1': ['Москва', 'Россия']}, {'visit3': ['Владимир', 'Россия']}, {'visit7': ['Тула', 'Россия']}, {'visit8': ['Тула', 'Россия']}, {'visit9': ['Курск', 'Россия']}, {'visit10': ['Архангельск', 'Россия']}]\n"
     ]
    }
   ],
   "source": [
    "geo_logs = [\n",
    "    {'visit1': ['Москва', 'Россия']},\n",
    "    {'visit2': ['Дели', 'Индия']},\n",
    "    {'visit3': ['Владимир', 'Россия']},\n",
    "    {'visit4': ['Лиссабон', 'Португалия']},\n",
    "    {'visit5': ['Париж', 'Франция']},\n",
    "    {'visit6': ['Лиссабон', 'Португалия']},\n",
    "    {'visit7': ['Тула', 'Россия']},\n",
    "    {'visit8': ['Тула', 'Россия']},\n",
    "    {'visit9': ['Курск', 'Россия']},\n",
    "    {'visit10': ['Архангельск', 'Россия']}\n",
    "]\n",
    "\n",
    "#Объявление списка для сбора логов\n",
    "visits_Russia = []\n",
    "\n",
    "#Цикл для сбора нужных логов\n",
    "for visit in geo_logs:\n",
    "    for log in visit.values():\n",
    "        for country in log:\n",
    "            if country == 'Россия':\n",
    "                visits_Russia.append(visit)\n",
    "    \n",
    "print('Список визитов в Россию: ')\n",
    "print(visits_Russia)"
   ]
  },
  {
   "cell_type": "markdown",
   "metadata": {},
   "source": [
    "**Задание 2**. Выведите на экран все уникальные гео-ID из значений словаря ids. Т. е. список вида [213, 15, 54, 119, 98, 35]"
   ]
  },
  {
   "cell_type": "code",
   "execution_count": 39,
   "metadata": {},
   "outputs": [
    {
     "name": "stdout",
     "output_type": "stream",
     "text": [
      "Список уникальных гео-ID:  [98, 35, 213, 54, 119, 15]\n"
     ]
    }
   ],
   "source": [
    "ids = {'user1': [213, 213, 213, 15, 213], \n",
    "       'user2': [54, 54, 119, 119, 119], \n",
    "       'user3': [213, 98, 98, 35]}\n",
    "\n",
    "#Объявление множества для сбора уникальных гео-ID\n",
    "result = set()\n",
    "\n",
    "#Цикл для сбора уникальных гео-ID\n",
    "for unique in ids.values():\n",
    "    result = result | set(unique)\n",
    "\n",
    "print('Список уникальных гео-ID: ', list(result))\n"
   ]
  },
  {
   "cell_type": "markdown",
   "metadata": {},
   "source": [
    "**Задание 3**. Дан список поисковых запросов. Получить распределение количества слов в них. \n",
    "Т. е. поисковых запросов из одного - слова 5%, из двух - 7%, из трех - 3% и т.д."
   ]
  },
  {
   "cell_type": "code",
   "execution_count": 100,
   "metadata": {},
   "outputs": [
    {
     "name": "stdout",
     "output_type": "stream",
     "text": [
      "Процент запросов из:\n",
      "    1 слова : 14%\n",
      "    2 слов : 29%\n",
      "    3 слов : 57%\n"
     ]
    }
   ],
   "source": [
    "queries = [\n",
    "    'смотреть сериалы онлайн',\n",
    "    'новости спорта',\n",
    "    'афиша',\n",
    "    'курс доллара',\n",
    "    'сериалы этим летом',\n",
    "    'курс по питону',\n",
    "    'сериалы про спорт',\n",
    "]\n",
    "\n",
    "#Объявление переменных для подсчета слов, треккинга ошибок в формате данных и словаря для сбора статистики\n",
    "counter = 0\n",
    "dic = {}\n",
    "error = 0\n",
    "\n",
    "#Цикл для заполнения словаря статистики\n",
    "for element in queries:\n",
    "    counter += 1\n",
    "    if element[0] == ' ' or element[-1] == ' ':\n",
    "        print('Ошибка! В запросе под номером ', counter, '. Наличие пробела в начале/конце строки', sep='')\n",
    "        error += 1\n",
    "    else:\n",
    "        words = 0\n",
    "        for symbol in element:\n",
    "            if symbol == ' ':\n",
    "                words += 1\n",
    "        words += 1\n",
    "        if dic.get(words, 'NF') == 'NF':\n",
    "            dic[words] = 0\n",
    "            dic[words] += 1\n",
    "        else:\n",
    "            dic[words] += 1\n",
    "\n",
    "#Цикл для вывод отсортированной информации\n",
    "if error >0:\n",
    "    print('Количество ошибок: ',error, sep='')\n",
    "else:\n",
    "    print('Процент запросов из:')\n",
    "    list_keys = list(dic.keys())\n",
    "    list_keys.sort()\n",
    "    for i in list_keys:\n",
    "        if i == 1:\n",
    "            print('    ', i, ' слова : ', round(int(dic[i])/len(queries)*100), '%', sep='')\n",
    "        else:\n",
    "            print('    ', i, ' слов : ', round(int(dic[i])/len(queries)*100), '%', sep='')        \n",
    "\n"
   ]
  },
  {
   "cell_type": "markdown",
   "metadata": {},
   "source": [
    "**Задание 4**. Дана статистика рекламных каналов по объемам продаж. Напишите скрипт, который возвращает название канала с максимальным объемом.\n",
    "Т. е. в данном примере скрипт должен возвращать 'yandex'."
   ]
  },
  {
   "cell_type": "code",
   "execution_count": 108,
   "metadata": {},
   "outputs": [
    {
     "name": "stdout",
     "output_type": "stream",
     "text": [
      "Канала с максимальным объемомg продаж: yandex\n"
     ]
    }
   ],
   "source": [
    "stats = {'facebook': 55, 'yandex': 120, 'vk': 115, 'google': 99, 'email': 42, 'ok': 98}\n",
    "\n",
    "maximum = 0\n",
    "\n",
    "#Цикл для поиска максимального значения в словаре\n",
    "for element in stats.values():\n",
    "    if element >= maximum:\n",
    "        maximum = element       \n",
    "\n",
    "#Цикл для поиска ключа по значению\n",
    "for name in stats:  \n",
    "    if stats[name] == maximum:\n",
    "        print('Канала с максимальным объемомg продаж:', name)"
   ]
  },
  {
   "cell_type": "markdown",
   "metadata": {},
   "source": [
    "**Задание 5**. Напишите код для преобразования произвольного списка вида ['2018-01-01', 'yandex', 'cpc', 100] (он может быть любой длины) в словарь {'2018-01-01': {'yandex': {'cpc': 100}}}"
   ]
  },
  {
   "cell_type": "code",
   "execution_count": 168,
   "metadata": {},
   "outputs": [
    {
     "name": "stdout",
     "output_type": "stream",
     "text": [
      "Результат: {'2018-01-01': {'yandex': {'cpc': 100}}}\n"
     ]
    }
   ],
   "source": [
    "start = ['2018-01-01', 'yandex', 'cpc', 100] \n",
    "\n",
    "for i in enumerate(reversed(start)):\n",
    "    if i[0] == 0:\n",
    "        semi = i[1]\n",
    "    elif i[0] == 1:\n",
    "        final = {i[1]: semi}\n",
    "    else:\n",
    "        final = {i[1]: final}\n",
    "    \n",
    "print('Результат:', final)"
   ]
  }
 ],
 "metadata": {
  "kernelspec": {
   "display_name": "Python 3",
   "language": "python",
   "name": "python3"
  },
  "language_info": {
   "codemirror_mode": {
    "name": "ipython",
    "version": 3
   },
   "file_extension": ".py",
   "mimetype": "text/x-python",
   "name": "python",
   "nbconvert_exporter": "python",
   "pygments_lexer": "ipython3",
   "version": "3.7.6"
  }
 },
 "nbformat": 4,
 "nbformat_minor": 2
}
