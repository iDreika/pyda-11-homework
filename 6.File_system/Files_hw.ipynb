{
 "cells": [
  {
   "cell_type": "markdown",
   "metadata": {},
   "source": [
    "# Домашнее задание\n",
    "1. Переведите содержимое файла purchase_log.txt в словарь purchases вида:\n",
    "```python\n",
    "{'1840e0b9d4': 'Продукты', ...}\n",
    "```\n",
    "\n",
    "2. Для каждого user_id в файле visit_log.csv определите третий столбец с категорией покупки (если покупка была, сам файл visit_log.csv изменять не надо). Запишите в файл funnel.csv визиты из файла visit_log.csv, в которых были покупки с указанием категории.\n",
    "\n",
    "Учтите условия на данные:\n",
    "- содержимое purchase_log.txt помещается в оперативную память компьютера\n",
    "- содержимое visit_log.csv - нет; используйте только построчную обработку этого файла"
   ]
  },
  {
   "cell_type": "code",
   "execution_count": 23,
   "metadata": {},
   "outputs": [],
   "source": [
    "import json\n",
    "purchases = {}\n",
    "count = 0\n",
    "\n",
    "with open('purchase_log.txt', encoding='UTF-8') as purch_f:\n",
    "    purch_cont = purch_f.readlines() \n",
    "    for element in purch_cont:\n",
    "        purchases[json.loads(element.strip())['user_id']] = json.loads(element.strip())['category']\n",
    "# purchases.pop('user_id')\n",
    "\n",
    "visit_f = open('visit_log.csv', 'r', encoding='UTF-8')\n",
    "funnel_f = open('funnel.csv', 'w', encoding='UTF-8')\n",
    "\n",
    "funnel_f.write(visit_f.readline().strip() + ',category\\n')\n",
    "\n",
    "for line_vis in visit_f:\n",
    "    if purchases.get(line_vis[0:10], 'не определен') != 'не определен':\n",
    "         funnel_f.write(line_vis.strip() + ',' + purchases.get(line_vis[0:10]) + '\\n')\n",
    "            \n",
    "funnel_f.close()\n",
    "visit_f.close()"
   ]
  },
  {
   "cell_type": "code",
   "execution_count": null,
   "metadata": {},
   "outputs": [],
   "source": []
  }
 ],
 "metadata": {
  "kernelspec": {
   "display_name": "Python 3",
   "language": "python",
   "name": "python3"
  },
  "language_info": {
   "codemirror_mode": {
    "name": "ipython",
    "version": 3
   },
   "file_extension": ".py",
   "mimetype": "text/x-python",
   "name": "python",
   "nbconvert_exporter": "python",
   "pygments_lexer": "ipython3",
   "version": "3.7.6"
  }
 },
 "nbformat": 4,
 "nbformat_minor": 2
}
