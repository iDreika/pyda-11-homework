{
 "cells": [
  {
   "cell_type": "markdown",
   "metadata": {},
   "source": [
    "### Уровень 0:\n",
    "Даны вектора x=(1,1), y=(2, 0) и z = (0,2)\n",
    "Надо:\n",
    "Изобразить вектора на экране\n",
    "Изобразить точку x + y + z\n",
    "Найти угол между векторами x и y\n",
    "\n"
   ]
  },
  {
   "cell_type": "code",
   "execution_count": 158,
   "metadata": {},
   "outputs": [
    {
     "data": {
      "image/png": "[encoded data removed]",
      "text/plain": [
       "<Figure size 432x288 with 1 Axes>"
      ]
     },
     "metadata": {
      "needs_background": "light"
     },
     "output_type": "display_data"
    },
    {
     "name": "stdout",
     "output_type": "stream",
     "text": [
      "Угол между векторами х и у: 45\n"
     ]
    }
   ],
   "source": [
    "import numpy as np\n",
    "import matplotlib.pyplot as plt\n",
    "import math\n",
    "\n",
    "origin = np.array([0,0])\n",
    "x = np.array([1,1])\n",
    "y = np.array([2,0])\n",
    "z = np.array([0,2])\n",
    "d = x + y + z\n",
    "\n",
    "plt.plot([0,x[0]],[0,x[1]],'-o')\n",
    "plt.plot([0,y[0]],[0,y[1]],'-o')\n",
    "plt.plot([0,z[0]],[0,z[1]],'-o')\n",
    "plt.plot(d[0],d[1],'o')\n",
    "\n",
    "plt.show()\n",
    "print('Угол между векторами х и у:',int(np.arccos(np.dot(x,y)/math.sqrt(x.dot(x))/math.sqrt(y.dot(y))) *180/np.pi))"
   ]
  },
  {
   "cell_type": "markdown",
   "metadata": {},
   "source": [
    "### Уровень 1:\n",
    "Даны дома из Бостона\n",
    "Выбрать любые n домов, образующих базис в пространстве признаков дома (все колонки, кроме medv)\n",
    "Написать код разложения дома по указанному базису"
   ]
  }
 ],
 "metadata": {
  "kernelspec": {
   "display_name": "Python 3",
   "language": "python",
   "name": "python3"
  },
  "language_info": {
   "codemirror_mode": {
    "name": "ipython",
    "version": 3
   },
   "file_extension": ".py",
   "mimetype": "text/x-python",
   "name": "python",
   "nbconvert_exporter": "python",
   "pygments_lexer": "ipython3",
   "version": "3.7.6"
  }
 },
 "nbformat": 4,
 "nbformat_minor": 4
}
